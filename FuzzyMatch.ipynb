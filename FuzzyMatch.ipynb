{
 "cells": [
  {
   "cell_type": "code",
   "execution_count": null,
   "metadata": {},
   "outputs": [],
   "source": [
    "from fuzzywuzzy import fuzz\n",
    "from fuzzywuzzy import process\n",
    "import pandas as pd\n",
    "\n",
    "class FuzzyMatch:\n",
    "    \n",
    "    def __init__(self, choices, keys):\n",
    "        \n",
    "        choices = [x.upper() for x in choices]\n",
    "        self.choices = choices\n",
    "        self.keys = keys\n",
    "        self.dChoices = {}\n",
    "        for choice,key in zip(self.choices,self.keys):\n",
    "            self.dChoices[choice] = key\n",
    "        \n",
    "        \n",
    "    #input list of strings to match\n",
    "    def MatchMultiple(self,ls):\n",
    "        results = []\n",
    "        for s in ls:\n",
    "            results.append(self.Match(s))\n",
    "            \n",
    "        return results\n",
    "        \n",
    "            \n",
    "    def Match(self,s):\n",
    "        foundName, score = process.extractOne(s, self.choices)\n",
    "        foundKey = self.dChoices[foundName]#Get Key\n",
    "        return {\"inputString\":s,\"matchFound\":foundName,\"matchKey\":foundKey,\"matchScore\":score}"
   ]
  }
 ],
 "metadata": {
  "kernelspec": {
   "display_name": "Python 3",
   "language": "python",
   "name": "python3"
  },
  "language_info": {
   "codemirror_mode": {
    "name": "ipython",
    "version": 3
   },
   "file_extension": ".py",
   "mimetype": "text/x-python",
   "name": "python",
   "nbconvert_exporter": "python",
   "pygments_lexer": "ipython3",
   "version": "3.8.5"
  }
 },
 "nbformat": 4,
 "nbformat_minor": 4
}
